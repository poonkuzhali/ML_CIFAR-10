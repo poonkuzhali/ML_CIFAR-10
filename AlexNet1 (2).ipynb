{
  "nbformat": 4,
  "nbformat_minor": 0,
  "metadata": {
    "colab": {
      "provenance": [],
      "machine_shape": "hm",
      "gpuType": "V100"
    },
    "kernelspec": {
      "name": "python3",
      "display_name": "Python 3"
    },
    "language_info": {
      "name": "python"
    },
    "accelerator": "GPU"
  },
  "cells": [
    {
      "cell_type": "code",
      "source": [],
      "metadata": {
        "id": "ENPk8FOhjfZH"
      },
      "execution_count": null,
      "outputs": []
    },
    {
      "cell_type": "code",
      "execution_count": null,
      "metadata": {
        "id": "Q6UZZt3Swbks"
      },
      "outputs": [],
      "source": [
        "import numpy as np\n",
        "import matplotlib.pyplot as plt\n",
        "import seaborn as sns\n",
        "import tensorflow as tf\n",
        "\n",
        "from keras.preprocessing import image\n",
        "from tensorflow.keras.preprocessing.image import ImageDataGenerator\n",
        "from tensorflow.keras.layers import Dense, Flatten, Conv2D, MaxPooling2D, Dropout,Input"
      ]
    },
    {
      "cell_type": "code",
      "source": [
        "cifar10 = tf.keras.datasets.cifar10\n",
        "(X_train, y_train), (X_test,y_test) = cifar10.load_data()"
      ],
      "metadata": {
        "id": "EUVdEhvJwtDm"
      },
      "execution_count": null,
      "outputs": []
    },
    {
      "cell_type": "code",
      "source": [
        "from sklearn.model_selection import train_test_split\n",
        "random_seed = 42\n",
        "np.random.seed(random_seed)\n",
        "shuffle_indices = np.random.permutation(len(X_train))\n",
        "X_train = X_train[shuffle_indices]\n",
        "y_train = y_train[shuffle_indices]\n",
        "X_train, X_val, y_train, y_val = train_test_split(X_train, y_train, test_size=0.2, random_state=random_seed)"
      ],
      "metadata": {
        "id": "lVjjivhYwwEQ"
      },
      "execution_count": null,
      "outputs": []
    },
    {
      "cell_type": "code",
      "source": [
        "print(X_train.shape)\n",
        "print(X_val.shape)\n",
        "print(X_test.shape)\n",
        "print(y_train.shape)\n",
        "print(y_val.shape)\n",
        "print(y_test.shape)\n"
      ],
      "metadata": {
        "colab": {
          "base_uri": "https://localhost:8080/"
        },
        "id": "uy-dWsSqwxwz",
        "outputId": "637687a1-6923-47d6-d33b-4ff8255be916"
      },
      "execution_count": null,
      "outputs": [
        {
          "output_type": "stream",
          "name": "stdout",
          "text": [
            "(40000, 32, 32, 3)\n",
            "(10000, 32, 32, 3)\n",
            "(10000, 32, 32, 3)\n",
            "(40000, 1)\n",
            "(10000, 1)\n",
            "(10000, 1)\n"
          ]
        }
      ]
    },
    {
      "cell_type": "code",
      "source": [],
      "metadata": {
        "id": "oCtgEL1UuZPm"
      },
      "execution_count": null,
      "outputs": []
    },
    {
      "cell_type": "code",
      "source": [
        "X_train = X_train / 255.0\n",
        "X_val = X_val / 255.0\n",
        "X_test = X_test / 255.0"
      ],
      "metadata": {
        "id": "Kas68u_iYyV6"
      },
      "execution_count": null,
      "outputs": []
    },
    {
      "cell_type": "code",
      "source": [
        "from tensorflow.keras.preprocessing.image import ImageDataGenerator\n",
        "\n",
        "train_datagen = ImageDataGenerator(\n",
        "        rotation_range=10,\n",
        "        zoom_range = 0.1,\n",
        "        width_shift_range=0.1,\n",
        "        height_shift_range=0.1,\n",
        "        shear_range = 0.1,\n",
        "        horizontal_flip=True,\n",
        "        vertical_flip=False\n",
        "        )\n",
        "train_datagen.fit(X_train)"
      ],
      "metadata": {
        "id": "IRcRjKwYw1BX"
      },
      "execution_count": null,
      "outputs": []
    },
    {
      "cell_type": "code",
      "source": [
        "import matplotlib.pyplot as plt\n",
        "import tensorflow as tf\n",
        "from tensorflow.keras import layers, models, callbacks\n",
        "from tensorflow.keras import regularizers\n",
        "from tensorflow.keras.callbacks import ReduceLROnPlateau\n",
        "from tensorflow.keras import regularizers"
      ],
      "metadata": {
        "id": "DtHK0XXNw3GO"
      },
      "execution_count": null,
      "outputs": []
    },
    {
      "cell_type": "code",
      "source": [
        "from tensorflow.keras import models, layers, regularizers\n",
        "\n",
        "model = models.Sequential([\n",
        "    layers.Conv2D(32, (3, 3), strides=(1,1),activation='relu', input_shape=(32, 32, 3), kernel_regularizer=regularizers.l2(0.001)),\n",
        "    layers.BatchNormalization(),\n",
        "    layers.Conv2D(32, (3, 3),strides=(1,1), activation='relu', kernel_regularizer=regularizers.l2(0.001)),\n",
        "    layers.MaxPooling2D((2, 2)),\n",
        "    layers.Dropout(0.3),\n",
        "\n",
        "    layers.Conv2D(64, (3, 3),strides=(1,1), activation='relu', padding='same', kernel_regularizer=regularizers.l2(0.001)),\n",
        "    layers.BatchNormalization(),\n",
        "    layers.MaxPooling2D((2, 2)),\n",
        "    layers.Dropout(0.3),\n",
        "\n",
        "    layers.Conv2D(128, (3, 3),strides=(1,1), activation='relu', padding='same', kernel_regularizer=regularizers.l2(0.001)),\n",
        "    layers.BatchNormalization(),\n",
        "    layers.Conv2D(128, (3, 3),strides=(1,1), activation='relu', padding='same', kernel_regularizer=regularizers.l2(0.001)),\n",
        "    layers.MaxPooling2D((2, 2)),\n",
        "    layers.Dropout(0.3),\n",
        "\n",
        "    layers.Flatten(),\n",
        "    layers.Dense(256, activation='relu', kernel_regularizer=regularizers.l2(0.001)),\n",
        "    layers.Dense(256, activation='relu', kernel_regularizer=regularizers.l2(0.001)),\n",
        "\n",
        "    layers.Dropout(0.5),\n",
        "    layers.Dense(10, activation='softmax')\n",
        "\n",
        "\n",
        "])\n"
      ],
      "metadata": {
        "id": "nfiNWh8bw7c1"
      },
      "execution_count": null,
      "outputs": []
    },
    {
      "cell_type": "code",
      "source": [
        "\n",
        "model.summary()"
      ],
      "metadata": {
        "colab": {
          "base_uri": "https://localhost:8080/"
        },
        "id": "LlV6pIa-w-ck",
        "outputId": "584128ba-3219-4c40-e203-e1d37dd52955"
      },
      "execution_count": null,
      "outputs": [
        {
          "output_type": "stream",
          "name": "stdout",
          "text": [
            "Model: \"sequential\"\n",
            "_________________________________________________________________\n",
            " Layer (type)                Output Shape              Param #   \n",
            "=================================================================\n",
            " conv2d (Conv2D)             (None, 30, 30, 32)        896       \n",
            "                                                                 \n",
            " batch_normalization (Batch  (None, 30, 30, 32)        128       \n",
            " Normalization)                                                  \n",
            "                                                                 \n",
            " conv2d_1 (Conv2D)           (None, 28, 28, 32)        9248      \n",
            "                                                                 \n",
            " max_pooling2d (MaxPooling2  (None, 14, 14, 32)        0         \n",
            " D)                                                              \n",
            "                                                                 \n",
            " dropout (Dropout)           (None, 14, 14, 32)        0         \n",
            "                                                                 \n",
            " conv2d_2 (Conv2D)           (None, 14, 14, 64)        18496     \n",
            "                                                                 \n",
            " batch_normalization_1 (Bat  (None, 14, 14, 64)        256       \n",
            " chNormalization)                                                \n",
            "                                                                 \n",
            " max_pooling2d_1 (MaxPoolin  (None, 7, 7, 64)          0         \n",
            " g2D)                                                            \n",
            "                                                                 \n",
            " dropout_1 (Dropout)         (None, 7, 7, 64)          0         \n",
            "                                                                 \n",
            " conv2d_3 (Conv2D)           (None, 7, 7, 128)         73856     \n",
            "                                                                 \n",
            " batch_normalization_2 (Bat  (None, 7, 7, 128)         512       \n",
            " chNormalization)                                                \n",
            "                                                                 \n",
            " conv2d_4 (Conv2D)           (None, 7, 7, 128)         147584    \n",
            "                                                                 \n",
            " max_pooling2d_2 (MaxPoolin  (None, 3, 3, 128)         0         \n",
            " g2D)                                                            \n",
            "                                                                 \n",
            " dropout_2 (Dropout)         (None, 3, 3, 128)         0         \n",
            "                                                                 \n",
            " flatten (Flatten)           (None, 1152)              0         \n",
            "                                                                 \n",
            " dense (Dense)               (None, 256)               295168    \n",
            "                                                                 \n",
            " dense_1 (Dense)             (None, 256)               65792     \n",
            "                                                                 \n",
            " dropout_3 (Dropout)         (None, 256)               0         \n",
            "                                                                 \n",
            " dense_2 (Dense)             (None, 10)                2570      \n",
            "                                                                 \n",
            "=================================================================\n",
            "Total params: 614506 (2.34 MB)\n",
            "Trainable params: 614058 (2.34 MB)\n",
            "Non-trainable params: 448 (1.75 KB)\n",
            "_________________________________________________________________\n"
          ]
        }
      ]
    },
    {
      "cell_type": "code",
      "source": [
        "learning_rate_reduction = callbacks.ReduceLROnPlateau(\n",
        "    monitor='val_loss',  # Monitor validation loss\n",
        "    factor=0.5,           # Factor by which the learning rate will be reduced\n",
        "    patience=3,           # Number of epochs with no improvement after which learning rate will be reduced\n",
        "    verbose=1,            # Output a message about learning rate reduction\n",
        "    min_lr=0.00001        # Minimum learning rate\n",
        ")"
      ],
      "metadata": {
        "id": "C5fgJq-Kw_kV"
      },
      "execution_count": null,
      "outputs": []
    },
    {
      "cell_type": "code",
      "source": [
        "\n",
        "\n",
        "model.compile(optimizer='adam',\n",
        "              loss='sparse_categorical_crossentropy',\n",
        "              metrics=['accuracy'])"
      ],
      "metadata": {
        "id": "wm1d0jB2xUpZ"
      },
      "execution_count": null,
      "outputs": []
    },
    {
      "cell_type": "code",
      "source": [
        "history = model.fit(\n",
        "    X_train,\n",
        "    y_train,\n",
        "    batch_size=32,\n",
        "    epochs=50,\n",
        "    validation_data=(X_val, y_val),\n",
        "    callbacks=[learning_rate_reduction]\n",
        ")"
      ],
      "metadata": {
        "colab": {
          "base_uri": "https://localhost:8080/"
        },
        "id": "A_VnyKZLxWwZ",
        "outputId": "3ada7afa-3424-4f4e-a5d7-b4327f822543"
      },
      "execution_count": null,
      "outputs": [
        {
          "output_type": "stream",
          "name": "stdout",
          "text": [
            "Epoch 1/50\n",
            "1250/1250 [==============================] - 15s 7ms/step - loss: 2.2021 - accuracy: 0.4250 - val_loss: 1.9203 - val_accuracy: 0.4989 - lr: 0.0010\n",
            "Epoch 2/50\n",
            "1250/1250 [==============================] - 7s 6ms/step - loss: 1.5235 - accuracy: 0.5991 - val_loss: 1.4031 - val_accuracy: 0.6375 - lr: 0.0010\n",
            "Epoch 3/50\n",
            "1250/1250 [==============================] - 7s 6ms/step - loss: 1.3364 - accuracy: 0.6587 - val_loss: 1.8989 - val_accuracy: 0.5066 - lr: 0.0010\n",
            "Epoch 4/50\n",
            "1250/1250 [==============================] - 7s 6ms/step - loss: 1.2694 - accuracy: 0.6904 - val_loss: 1.2951 - val_accuracy: 0.6823 - lr: 0.0010\n",
            "Epoch 5/50\n",
            "1250/1250 [==============================] - 7s 6ms/step - loss: 1.2317 - accuracy: 0.7108 - val_loss: 1.2295 - val_accuracy: 0.7092 - lr: 0.0010\n",
            "Epoch 6/50\n",
            "1250/1250 [==============================] - 7s 6ms/step - loss: 1.2094 - accuracy: 0.7189 - val_loss: 1.2862 - val_accuracy: 0.6993 - lr: 0.0010\n",
            "Epoch 7/50\n",
            "1250/1250 [==============================] - 7s 6ms/step - loss: 1.1832 - accuracy: 0.7307 - val_loss: 1.1607 - val_accuracy: 0.7453 - lr: 0.0010\n",
            "Epoch 8/50\n",
            "1250/1250 [==============================] - 7s 6ms/step - loss: 1.1837 - accuracy: 0.7332 - val_loss: 1.2688 - val_accuracy: 0.7011 - lr: 0.0010\n",
            "Epoch 9/50\n",
            "1250/1250 [==============================] - 7s 6ms/step - loss: 1.1655 - accuracy: 0.7420 - val_loss: 1.1721 - val_accuracy: 0.7426 - lr: 0.0010\n",
            "Epoch 10/50\n",
            "1242/1250 [============================>.] - ETA: 0s - loss: 1.1552 - accuracy: 0.7464\n",
            "Epoch 10: ReduceLROnPlateau reducing learning rate to 0.0005000000237487257.\n",
            "1250/1250 [==============================] - 7s 6ms/step - loss: 1.1545 - accuracy: 0.7465 - val_loss: 1.1732 - val_accuracy: 0.7311 - lr: 0.0010\n",
            "Epoch 11/50\n",
            "1250/1250 [==============================] - 7s 6ms/step - loss: 1.0052 - accuracy: 0.7849 - val_loss: 0.9991 - val_accuracy: 0.7817 - lr: 5.0000e-04\n",
            "Epoch 12/50\n",
            "1250/1250 [==============================] - 7s 6ms/step - loss: 0.9397 - accuracy: 0.7954 - val_loss: 0.9563 - val_accuracy: 0.7868 - lr: 5.0000e-04\n",
            "Epoch 13/50\n",
            "1250/1250 [==============================] - 7s 6ms/step - loss: 0.9027 - accuracy: 0.8013 - val_loss: 0.9146 - val_accuracy: 0.7954 - lr: 5.0000e-04\n",
            "Epoch 14/50\n",
            "1250/1250 [==============================] - 7s 6ms/step - loss: 0.8787 - accuracy: 0.8075 - val_loss: 0.9445 - val_accuracy: 0.7841 - lr: 5.0000e-04\n",
            "Epoch 15/50\n",
            "1250/1250 [==============================] - 7s 6ms/step - loss: 0.8573 - accuracy: 0.8116 - val_loss: 0.9829 - val_accuracy: 0.7697 - lr: 5.0000e-04\n",
            "Epoch 16/50\n",
            "1246/1250 [============================>.] - ETA: 0s - loss: 0.8538 - accuracy: 0.8136\n",
            "Epoch 16: ReduceLROnPlateau reducing learning rate to 0.0002500000118743628.\n",
            "1250/1250 [==============================] - 7s 6ms/step - loss: 0.8534 - accuracy: 0.8137 - val_loss: 0.9951 - val_accuracy: 0.7693 - lr: 5.0000e-04\n",
            "Epoch 17/50\n",
            "1250/1250 [==============================] - 7s 6ms/step - loss: 0.7693 - accuracy: 0.8371 - val_loss: 0.8299 - val_accuracy: 0.8156 - lr: 2.5000e-04\n",
            "Epoch 18/50\n",
            "1250/1250 [==============================] - 7s 6ms/step - loss: 0.7299 - accuracy: 0.8465 - val_loss: 0.8316 - val_accuracy: 0.8155 - lr: 2.5000e-04\n",
            "Epoch 19/50\n",
            "1250/1250 [==============================] - 7s 6ms/step - loss: 0.7021 - accuracy: 0.8543 - val_loss: 0.7659 - val_accuracy: 0.8297 - lr: 2.5000e-04\n",
            "Epoch 20/50\n",
            "1250/1250 [==============================] - 7s 6ms/step - loss: 0.6870 - accuracy: 0.8545 - val_loss: 0.7771 - val_accuracy: 0.8265 - lr: 2.5000e-04\n",
            "Epoch 21/50\n",
            "1250/1250 [==============================] - 7s 6ms/step - loss: 0.6738 - accuracy: 0.8591 - val_loss: 0.8157 - val_accuracy: 0.8115 - lr: 2.5000e-04\n",
            "Epoch 22/50\n",
            "1247/1250 [============================>.] - ETA: 0s - loss: 0.6634 - accuracy: 0.8584\n",
            "Epoch 22: ReduceLROnPlateau reducing learning rate to 0.0001250000059371814.\n",
            "1250/1250 [==============================] - 7s 6ms/step - loss: 0.6632 - accuracy: 0.8585 - val_loss: 0.7842 - val_accuracy: 0.8214 - lr: 2.5000e-04\n",
            "Epoch 23/50\n",
            "1250/1250 [==============================] - 7s 6ms/step - loss: 0.6139 - accuracy: 0.8753 - val_loss: 0.7447 - val_accuracy: 0.8372 - lr: 1.2500e-04\n",
            "Epoch 24/50\n",
            "1250/1250 [==============================] - 7s 6ms/step - loss: 0.5824 - accuracy: 0.8830 - val_loss: 0.7429 - val_accuracy: 0.8363 - lr: 1.2500e-04\n",
            "Epoch 25/50\n",
            "1250/1250 [==============================] - 7s 6ms/step - loss: 0.5748 - accuracy: 0.8852 - val_loss: 0.7156 - val_accuracy: 0.8433 - lr: 1.2500e-04\n",
            "Epoch 26/50\n",
            "1250/1250 [==============================] - 7s 6ms/step - loss: 0.5587 - accuracy: 0.8893 - val_loss: 0.7359 - val_accuracy: 0.8373 - lr: 1.2500e-04\n",
            "Epoch 27/50\n",
            "1250/1250 [==============================] - 7s 6ms/step - loss: 0.5536 - accuracy: 0.8886 - val_loss: 0.7233 - val_accuracy: 0.8381 - lr: 1.2500e-04\n",
            "Epoch 28/50\n",
            "1250/1250 [==============================] - 7s 6ms/step - loss: 0.5438 - accuracy: 0.8905 - val_loss: 0.7137 - val_accuracy: 0.8413 - lr: 1.2500e-04\n",
            "Epoch 29/50\n",
            "1250/1250 [==============================] - 7s 6ms/step - loss: 0.5312 - accuracy: 0.8964 - val_loss: 0.7237 - val_accuracy: 0.8373 - lr: 1.2500e-04\n",
            "Epoch 30/50\n",
            "1250/1250 [==============================] - 7s 6ms/step - loss: 0.5283 - accuracy: 0.8948 - val_loss: 0.6957 - val_accuracy: 0.8456 - lr: 1.2500e-04\n",
            "Epoch 31/50\n",
            "1250/1250 [==============================] - 7s 6ms/step - loss: 0.5205 - accuracy: 0.8978 - val_loss: 0.7265 - val_accuracy: 0.8357 - lr: 1.2500e-04\n",
            "Epoch 32/50\n",
            "1250/1250 [==============================] - 7s 6ms/step - loss: 0.5071 - accuracy: 0.8999 - val_loss: 0.6940 - val_accuracy: 0.8433 - lr: 1.2500e-04\n",
            "Epoch 33/50\n",
            "1250/1250 [==============================] - 7s 6ms/step - loss: 0.5036 - accuracy: 0.9013 - val_loss: 0.7024 - val_accuracy: 0.8400 - lr: 1.2500e-04\n",
            "Epoch 34/50\n",
            "1250/1250 [==============================] - 7s 6ms/step - loss: 0.4985 - accuracy: 0.9024 - val_loss: 0.6947 - val_accuracy: 0.8448 - lr: 1.2500e-04\n",
            "Epoch 35/50\n",
            "1241/1250 [============================>.] - ETA: 0s - loss: 0.4934 - accuracy: 0.9044\n",
            "Epoch 35: ReduceLROnPlateau reducing learning rate to 6.25000029685907e-05.\n",
            "1250/1250 [==============================] - 7s 6ms/step - loss: 0.4938 - accuracy: 0.9042 - val_loss: 0.7531 - val_accuracy: 0.8297 - lr: 1.2500e-04\n",
            "Epoch 36/50\n",
            "1250/1250 [==============================] - 7s 6ms/step - loss: 0.4693 - accuracy: 0.9115 - val_loss: 0.6980 - val_accuracy: 0.8456 - lr: 6.2500e-05\n",
            "Epoch 37/50\n",
            "1250/1250 [==============================] - 7s 6ms/step - loss: 0.4549 - accuracy: 0.9162 - val_loss: 0.6986 - val_accuracy: 0.8428 - lr: 6.2500e-05\n",
            "Epoch 38/50\n",
            "1250/1250 [==============================] - 7s 6ms/step - loss: 0.4478 - accuracy: 0.9182 - val_loss: 0.6836 - val_accuracy: 0.8477 - lr: 6.2500e-05\n",
            "Epoch 39/50\n",
            "1250/1250 [==============================] - 7s 6ms/step - loss: 0.4408 - accuracy: 0.9189 - val_loss: 0.6758 - val_accuracy: 0.8478 - lr: 6.2500e-05\n",
            "Epoch 40/50\n",
            "1250/1250 [==============================] - 7s 6ms/step - loss: 0.4336 - accuracy: 0.9207 - val_loss: 0.6951 - val_accuracy: 0.8444 - lr: 6.2500e-05\n",
            "Epoch 41/50\n",
            "1250/1250 [==============================] - 7s 6ms/step - loss: 0.4355 - accuracy: 0.9203 - val_loss: 0.6739 - val_accuracy: 0.8510 - lr: 6.2500e-05\n",
            "Epoch 42/50\n",
            "1250/1250 [==============================] - 7s 6ms/step - loss: 0.4308 - accuracy: 0.9209 - val_loss: 0.6813 - val_accuracy: 0.8482 - lr: 6.2500e-05\n",
            "Epoch 43/50\n",
            "1250/1250 [==============================] - 7s 6ms/step - loss: 0.4251 - accuracy: 0.9216 - val_loss: 0.6867 - val_accuracy: 0.8458 - lr: 6.2500e-05\n",
            "Epoch 44/50\n",
            "1250/1250 [==============================] - 7s 6ms/step - loss: 0.4234 - accuracy: 0.9217 - val_loss: 0.6681 - val_accuracy: 0.8508 - lr: 6.2500e-05\n",
            "Epoch 45/50\n",
            "1250/1250 [==============================] - 7s 6ms/step - loss: 0.4163 - accuracy: 0.9256 - val_loss: 0.6928 - val_accuracy: 0.8469 - lr: 6.2500e-05\n",
            "Epoch 46/50\n",
            "1250/1250 [==============================] - 7s 6ms/step - loss: 0.4119 - accuracy: 0.9251 - val_loss: 0.6928 - val_accuracy: 0.8470 - lr: 6.2500e-05\n",
            "Epoch 47/50\n",
            "1246/1250 [============================>.] - ETA: 0s - loss: 0.4093 - accuracy: 0.9251\n",
            "Epoch 47: ReduceLROnPlateau reducing learning rate to 3.125000148429535e-05.\n",
            "1250/1250 [==============================] - 7s 6ms/step - loss: 0.4093 - accuracy: 0.9251 - val_loss: 0.6876 - val_accuracy: 0.8475 - lr: 6.2500e-05\n",
            "Epoch 48/50\n",
            "1250/1250 [==============================] - 7s 6ms/step - loss: 0.3927 - accuracy: 0.9320 - val_loss: 0.6870 - val_accuracy: 0.8479 - lr: 3.1250e-05\n",
            "Epoch 49/50\n",
            "1250/1250 [==============================] - 7s 6ms/step - loss: 0.3883 - accuracy: 0.9332 - val_loss: 0.6749 - val_accuracy: 0.8530 - lr: 3.1250e-05\n",
            "Epoch 50/50\n",
            "1247/1250 [============================>.] - ETA: 0s - loss: 0.3858 - accuracy: 0.9331\n",
            "Epoch 50: ReduceLROnPlateau reducing learning rate to 1.5625000742147677e-05.\n",
            "1250/1250 [==============================] - 7s 6ms/step - loss: 0.3861 - accuracy: 0.9330 - val_loss: 0.6758 - val_accuracy: 0.8522 - lr: 3.1250e-05\n"
          ]
        }
      ]
    },
    {
      "cell_type": "code",
      "source": [
        "plt.plot(history.history['loss'])\n",
        "plt.plot(history.history['val_loss'])\n",
        "plt.title('Model loss')\n",
        "plt.ylabel('Loss')\n",
        "plt.xlabel('Epoch')\n",
        "plt.legend(['Train', 'Validation'], loc='upper left')\n",
        "plt.show()"
      ],
      "metadata": {
        "id": "seapKkn6xYr1",
        "colab": {
          "base_uri": "https://localhost:8080/",
          "height": 472
        },
        "outputId": "530da0e1-3c36-4a3a-cafc-c86fa104dc06"
      },
      "execution_count": null,
      "outputs": [
        {
          "output_type": "display_data",
          "data": {
            "text/plain": [
              "<Figure size 640x480 with 1 Axes>"
            ],
            "image/png": "[encoded data removed]"
          },
          "metadata": {}
        }
      ]
    },
    {
      "cell_type": "code",
      "source": [
        "plt.plot(history.history['accuracy'])\n",
        "plt.plot(history.history['val_accuracy'])\n",
        "plt.title('Model accuracy')\n",
        "plt.ylabel('Accuracy')\n",
        "plt.xlabel('Epoch')\n",
        "plt.legend(['Train', 'Validation'], loc='upper left')\n",
        "plt.show()"
      ],
      "metadata": {
        "id": "Z9YqxtJKy5sc",
        "colab": {
          "base_uri": "https://localhost:8080/",
          "height": 472
        },
        "outputId": "0c6c0876-42b5-42d9-e094-417bb045ec9b"
      },
      "execution_count": null,
      "outputs": [
        {
          "output_type": "display_data",
          "data": {
            "text/plain": [
              "<Figure size 640x480 with 1 Axes>"
            ],
            "image/png": "[encoded data removed]"
          },
          "metadata": {}
        }
      ]
    },
    {
      "cell_type": "code",
      "source": [
        "\n"
      ],
      "metadata": {
        "id": "GjxuLnNGb19l"
      },
      "execution_count": null,
      "outputs": []
    },
    {
      "cell_type": "code",
      "source": [
        "test_loss, test_accuracy = model.evaluate(X_test, y_test)\n",
        "\n",
        "print(f\"Test Loss: {test_loss}\")\n",
        "print(f\"Test Accuracy: {test_accuracy}\")"
      ],
      "metadata": {
        "id": "4PGPhgjcy76N",
        "colab": {
          "base_uri": "https://localhost:8080/"
        },
        "outputId": "7cbb0bf7-e695-4145-badf-28f056d640a5"
      },
      "execution_count": null,
      "outputs": [
        {
          "output_type": "stream",
          "name": "stdout",
          "text": [
            "313/313 [==============================] - 1s 2ms/step - loss: 0.6760 - accuracy: 0.8539\n",
            "Test Loss: 0.6759842038154602\n",
            "Test Accuracy: 0.8539000153541565\n"
          ]
        }
      ]
    },
    {
      "cell_type": "code",
      "source": [],
      "metadata": {
        "id": "wS3-Vv6Hy-6p"
      },
      "execution_count": null,
      "outputs": []
    }
  ]
}