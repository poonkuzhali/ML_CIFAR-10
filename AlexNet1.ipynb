{
  "nbformat": 4,
  "nbformat_minor": 0,
  "metadata": {
    "colab": {
      "provenance": [],
      "machine_shape": "hm",
      "gpuType": "V100"
    },
    "kernelspec": {
      "name": "python3",
      "display_name": "Python 3"
    },
    "language_info": {
      "name": "python"
    },
    "accelerator": "GPU"
  },
  "cells": [
    {
      "cell_type": "code",
      "execution_count": 1,
      "metadata": {
        "id": "Q6UZZt3Swbks"
      },
      "outputs": [],
      "source": [
        "import numpy as np\n",
        "import matplotlib.pyplot as plt\n",
        "import seaborn as sns\n",
        "import tensorflow as tf\n",
        "\n",
        "from keras.preprocessing import image\n",
        "from tensorflow.keras.preprocessing.image import ImageDataGenerator\n",
        "from tensorflow.keras.layers import Dense, Flatten, Conv2D, MaxPooling2D, Dropout,Input"
      ]
    },
    {
      "cell_type": "code",
      "source": [
        "cifar10 = tf.keras.datasets.cifar10\n",
        "(X_train, y_train), (X_test,y_test) = cifar10.load_data()"
      ],
      "metadata": {
        "colab": {
          "base_uri": "https://localhost:8080/"
        },
        "id": "EUVdEhvJwtDm",
        "outputId": "e0727af8-3f0f-4303-df2f-e0bd9f11d850"
      },
      "execution_count": 2,
      "outputs": [
        {
          "output_type": "stream",
          "name": "stdout",
          "text": [
            "Downloading data from https://www.cs.toronto.edu/~kriz/cifar-10-python.tar.gz\n",
            "170498071/170498071 [==============================] - 6s 0us/step\n"
          ]
        }
      ]
    },
    {
      "cell_type": "code",
      "source": [
        "from sklearn.model_selection import train_test_split\n",
        "X_train, X_val, y_train, y_val = train_test_split(X_train, y_train, test_size=0.1, random_state=42)"
      ],
      "metadata": {
        "id": "lVjjivhYwwEQ"
      },
      "execution_count": 3,
      "outputs": []
    },
    {
      "cell_type": "code",
      "source": [
        "print(X_train.shape)\n",
        "print(X_val.shape)\n",
        "print(X_test.shape)\n",
        "print(y_train.shape)\n",
        "print(y_val.shape)\n",
        "print(y_test.shape)\n"
      ],
      "metadata": {
        "colab": {
          "base_uri": "https://localhost:8080/"
        },
        "id": "uy-dWsSqwxwz",
        "outputId": "74a2b52c-459d-4b69-cb8e-227ef933e44f"
      },
      "execution_count": 4,
      "outputs": [
        {
          "output_type": "stream",
          "name": "stdout",
          "text": [
            "(45000, 32, 32, 3)\n",
            "(5000, 32, 32, 3)\n",
            "(10000, 32, 32, 3)\n",
            "(45000, 1)\n",
            "(5000, 1)\n",
            "(10000, 1)\n"
          ]
        }
      ]
    },
    {
      "cell_type": "code",
      "source": [
        "from tensorflow.keras.preprocessing.image import ImageDataGenerator\n",
        "\n",
        "train_datagen = ImageDataGenerator(\n",
        "        rotation_range=10,\n",
        "        zoom_range = 0.1,\n",
        "        width_shift_range=0.1,\n",
        "        height_shift_range=0.1,\n",
        "        shear_range = 0.1,\n",
        "        horizontal_flip=True,\n",
        "        vertical_flip=False\n",
        "        )\n",
        "train_datagen.fit(X_train)"
      ],
      "metadata": {
        "id": "IRcRjKwYw1BX"
      },
      "execution_count": 5,
      "outputs": []
    },
    {
      "cell_type": "code",
      "source": [
        "import matplotlib.pyplot as plt\n",
        "import tensorflow as tf\n",
        "from tensorflow.keras import layers, models, callbacks\n",
        "from tensorflow.keras import regularizers\n",
        "from tensorflow.keras.callbacks import ReduceLROnPlateau\n",
        "from tensorflow.keras import regularizers"
      ],
      "metadata": {
        "id": "DtHK0XXNw3GO"
      },
      "execution_count": 6,
      "outputs": []
    },
    {
      "cell_type": "code",
      "source": [
        "model = models.Sequential([\n",
        "    layers.Conv2D(32, (3, 3), activation='relu', input_shape=(32, 32, 3), kernel_regularizer=regularizers.l2(0.001)),\n",
        "    layers.BatchNormalization(),\n",
        "    layers.Conv2D(32, (3, 3), activation='relu', kernel_regularizer=regularizers.l2(0.001)),\n",
        "    layers.MaxPooling2D((2, 2)),\n",
        "    layers.Dropout(0.3),\n",
        "\n",
        "    layers.Conv2D(64, (3, 3), activation='relu', padding='same', kernel_regularizer=regularizers.l2(0.001)),\n",
        "    layers.BatchNormalization(),\n",
        "    layers.MaxPooling2D((2, 2)),\n",
        "    layers.Dropout(0.3),\n",
        "\n",
        "    layers.Conv2D(128, (3, 3), activation='relu', padding='same', kernel_regularizer=regularizers.l2(0.001)),\n",
        "    layers.BatchNormalization(),\n",
        "    layers.Conv2D(128, (3, 3), activation='relu', padding='same', kernel_regularizer=regularizers.l2(0.001)),\n",
        "    layers.MaxPooling2D((2, 2)),\n",
        "    layers.Dropout(0.3),\n",
        "\n",
        "    layers.Flatten(),\n",
        "    layers.Dense(256, activation='relu', kernel_regularizer=regularizers.l2(0.001)),\n",
        "    layers.Dense(256, activation='relu', kernel_regularizer=regularizers.l2(0.001)),\n",
        "    layers.Dense(256, activation='relu', kernel_regularizer=regularizers.l2(0.001)),\n",
        "    layers.Dropout(0.5),\n",
        "    layers.Dense(10, activation='softmax')\n",
        "])"
      ],
      "metadata": {
        "id": "nfiNWh8bw7c1"
      },
      "execution_count": 7,
      "outputs": []
    },
    {
      "cell_type": "code",
      "source": [
        "model.summary()"
      ],
      "metadata": {
        "colab": {
          "base_uri": "https://localhost:8080/"
        },
        "id": "LlV6pIa-w-ck",
        "outputId": "0ea8939e-b505-4cdb-f5df-97d0217c1519"
      },
      "execution_count": 8,
      "outputs": [
        {
          "output_type": "stream",
          "name": "stdout",
          "text": [
            "Model: \"sequential\"\n",
            "_________________________________________________________________\n",
            " Layer (type)                Output Shape              Param #   \n",
            "=================================================================\n",
            " conv2d (Conv2D)             (None, 30, 30, 32)        896       \n",
            "                                                                 \n",
            " batch_normalization (Batch  (None, 30, 30, 32)        128       \n",
            " Normalization)                                                  \n",
            "                                                                 \n",
            " conv2d_1 (Conv2D)           (None, 28, 28, 32)        9248      \n",
            "                                                                 \n",
            " max_pooling2d (MaxPooling2  (None, 14, 14, 32)        0         \n",
            " D)                                                              \n",
            "                                                                 \n",
            " dropout (Dropout)           (None, 14, 14, 32)        0         \n",
            "                                                                 \n",
            " conv2d_2 (Conv2D)           (None, 14, 14, 64)        18496     \n",
            "                                                                 \n",
            " batch_normalization_1 (Bat  (None, 14, 14, 64)        256       \n",
            " chNormalization)                                                \n",
            "                                                                 \n",
            " max_pooling2d_1 (MaxPoolin  (None, 7, 7, 64)          0         \n",
            " g2D)                                                            \n",
            "                                                                 \n",
            " dropout_1 (Dropout)         (None, 7, 7, 64)          0         \n",
            "                                                                 \n",
            " conv2d_3 (Conv2D)           (None, 7, 7, 128)         73856     \n",
            "                                                                 \n",
            " batch_normalization_2 (Bat  (None, 7, 7, 128)         512       \n",
            " chNormalization)                                                \n",
            "                                                                 \n",
            " conv2d_4 (Conv2D)           (None, 7, 7, 128)         147584    \n",
            "                                                                 \n",
            " max_pooling2d_2 (MaxPoolin  (None, 3, 3, 128)         0         \n",
            " g2D)                                                            \n",
            "                                                                 \n",
            " dropout_2 (Dropout)         (None, 3, 3, 128)         0         \n",
            "                                                                 \n",
            " flatten (Flatten)           (None, 1152)              0         \n",
            "                                                                 \n",
            " dense (Dense)               (None, 256)               295168    \n",
            "                                                                 \n",
            " dense_1 (Dense)             (None, 256)               65792     \n",
            "                                                                 \n",
            " dense_2 (Dense)             (None, 256)               65792     \n",
            "                                                                 \n",
            " dropout_3 (Dropout)         (None, 256)               0         \n",
            "                                                                 \n",
            " dense_3 (Dense)             (None, 10)                2570      \n",
            "                                                                 \n",
            "=================================================================\n",
            "Total params: 680298 (2.60 MB)\n",
            "Trainable params: 679850 (2.59 MB)\n",
            "Non-trainable params: 448 (1.75 KB)\n",
            "_________________________________________________________________\n"
          ]
        }
      ]
    },
    {
      "cell_type": "code",
      "source": [
        "learning_rate_reduction = ReduceLROnPlateau(\n",
        "    monitor='val_accuracy',\n",
        "    patience=3,\n",
        "    verbose=1,\n",
        "    factor=0.6,\n",
        "    min_lr=0.00001\n",
        ")"
      ],
      "metadata": {
        "id": "C5fgJq-Kw_kV"
      },
      "execution_count": 9,
      "outputs": []
    },
    {
      "cell_type": "code",
      "source": [
        "model.compile(optimizer='adam',\n",
        "              loss='sparse_categorical_crossentropy',\n",
        "              metrics=['accuracy'])"
      ],
      "metadata": {
        "id": "wm1d0jB2xUpZ"
      },
      "execution_count": 10,
      "outputs": []
    },
    {
      "cell_type": "code",
      "source": [
        "history = model.fit(\n",
        "    X_train,\n",
        "    y_train,\n",
        "    batch_size=64,\n",
        "    epochs=50,\n",
        "    validation_data=(X_val, y_val),\n",
        "    callbacks=[learning_rate_reduction]\n",
        ")"
      ],
      "metadata": {
        "colab": {
          "base_uri": "https://localhost:8080/"
        },
        "id": "A_VnyKZLxWwZ",
        "outputId": "d30502ff-ee57-4e6b-b011-bc8fcc68b57c"
      },
      "execution_count": 11,
      "outputs": [
        {
          "output_type": "stream",
          "name": "stdout",
          "text": [
            "Epoch 1/50\n",
            "704/704 [==============================] - 13s 8ms/step - loss: 2.3119 - accuracy: 0.4265 - val_loss: 1.8509 - val_accuracy: 0.5136 - lr: 0.0010\n",
            "Epoch 2/50\n",
            "704/704 [==============================] - 5s 7ms/step - loss: 1.5416 - accuracy: 0.6000 - val_loss: 1.3494 - val_accuracy: 0.6548 - lr: 0.0010\n",
            "Epoch 3/50\n",
            "704/704 [==============================] - 5s 7ms/step - loss: 1.3005 - accuracy: 0.6694 - val_loss: 1.2328 - val_accuracy: 0.6846 - lr: 0.0010\n",
            "Epoch 4/50\n",
            "704/704 [==============================] - 5s 7ms/step - loss: 1.2036 - accuracy: 0.7050 - val_loss: 1.1528 - val_accuracy: 0.7182 - lr: 0.0010\n",
            "Epoch 5/50\n",
            "704/704 [==============================] - 5s 7ms/step - loss: 1.1505 - accuracy: 0.7260 - val_loss: 1.1566 - val_accuracy: 0.7164 - lr: 0.0010\n",
            "Epoch 6/50\n",
            "704/704 [==============================] - 5s 7ms/step - loss: 1.1193 - accuracy: 0.7369 - val_loss: 1.1550 - val_accuracy: 0.7254 - lr: 0.0010\n",
            "Epoch 7/50\n",
            "704/704 [==============================] - 5s 7ms/step - loss: 1.0908 - accuracy: 0.7468 - val_loss: 1.1102 - val_accuracy: 0.7398 - lr: 0.0010\n",
            "Epoch 8/50\n",
            "704/704 [==============================] - 5s 7ms/step - loss: 1.0787 - accuracy: 0.7540 - val_loss: 1.0543 - val_accuracy: 0.7520 - lr: 0.0010\n",
            "Epoch 9/50\n",
            "704/704 [==============================] - 5s 7ms/step - loss: 1.0579 - accuracy: 0.7617 - val_loss: 1.3530 - val_accuracy: 0.6646 - lr: 0.0010\n",
            "Epoch 10/50\n",
            "704/704 [==============================] - 5s 7ms/step - loss: 1.0462 - accuracy: 0.7688 - val_loss: 1.0264 - val_accuracy: 0.7670 - lr: 0.0010\n",
            "Epoch 11/50\n",
            "704/704 [==============================] - 5s 7ms/step - loss: 1.0391 - accuracy: 0.7744 - val_loss: 1.2011 - val_accuracy: 0.7192 - lr: 0.0010\n",
            "Epoch 12/50\n",
            "704/704 [==============================] - 5s 7ms/step - loss: 1.0271 - accuracy: 0.7759 - val_loss: 1.0610 - val_accuracy: 0.7616 - lr: 0.0010\n",
            "Epoch 13/50\n",
            "702/704 [============================>.] - ETA: 0s - loss: 1.0221 - accuracy: 0.7778\n",
            "Epoch 13: ReduceLROnPlateau reducing learning rate to 0.0006000000284984708.\n",
            "704/704 [==============================] - 5s 7ms/step - loss: 1.0220 - accuracy: 0.7780 - val_loss: 1.0738 - val_accuracy: 0.7618 - lr: 0.0010\n",
            "Epoch 14/50\n",
            "704/704 [==============================] - 5s 7ms/step - loss: 0.9228 - accuracy: 0.8076 - val_loss: 0.9811 - val_accuracy: 0.7820 - lr: 6.0000e-04\n",
            "Epoch 15/50\n",
            "704/704 [==============================] - 5s 7ms/step - loss: 0.8725 - accuracy: 0.8148 - val_loss: 0.8844 - val_accuracy: 0.8106 - lr: 6.0000e-04\n",
            "Epoch 16/50\n",
            "704/704 [==============================] - 5s 7ms/step - loss: 0.8512 - accuracy: 0.8174 - val_loss: 0.9145 - val_accuracy: 0.7928 - lr: 6.0000e-04\n",
            "Epoch 17/50\n",
            "704/704 [==============================] - 5s 7ms/step - loss: 0.8395 - accuracy: 0.8218 - val_loss: 0.8704 - val_accuracy: 0.8122 - lr: 6.0000e-04\n",
            "Epoch 18/50\n",
            "704/704 [==============================] - 5s 7ms/step - loss: 0.8227 - accuracy: 0.8260 - val_loss: 0.9290 - val_accuracy: 0.7936 - lr: 6.0000e-04\n",
            "Epoch 19/50\n",
            "704/704 [==============================] - 5s 7ms/step - loss: 0.8175 - accuracy: 0.8278 - val_loss: 0.8088 - val_accuracy: 0.8248 - lr: 6.0000e-04\n",
            "Epoch 20/50\n",
            "704/704 [==============================] - 5s 7ms/step - loss: 0.8072 - accuracy: 0.8307 - val_loss: 1.0426 - val_accuracy: 0.7612 - lr: 6.0000e-04\n",
            "Epoch 21/50\n",
            "704/704 [==============================] - 5s 7ms/step - loss: 0.8004 - accuracy: 0.8296 - val_loss: 0.8573 - val_accuracy: 0.8160 - lr: 6.0000e-04\n",
            "Epoch 22/50\n",
            "699/704 [============================>.] - ETA: 0s - loss: 0.7945 - accuracy: 0.8332\n",
            "Epoch 22: ReduceLROnPlateau reducing learning rate to 0.0003600000170990825.\n",
            "704/704 [==============================] - 5s 7ms/step - loss: 0.7948 - accuracy: 0.8331 - val_loss: 0.8529 - val_accuracy: 0.8170 - lr: 6.0000e-04\n",
            "Epoch 23/50\n",
            "704/704 [==============================] - 5s 7ms/step - loss: 0.7299 - accuracy: 0.8520 - val_loss: 0.7972 - val_accuracy: 0.8264 - lr: 3.6000e-04\n",
            "Epoch 24/50\n",
            "704/704 [==============================] - 5s 7ms/step - loss: 0.7013 - accuracy: 0.8580 - val_loss: 0.8220 - val_accuracy: 0.8238 - lr: 3.6000e-04\n",
            "Epoch 25/50\n",
            "704/704 [==============================] - 5s 7ms/step - loss: 0.6849 - accuracy: 0.8635 - val_loss: 0.7399 - val_accuracy: 0.8434 - lr: 3.6000e-04\n",
            "Epoch 26/50\n",
            "704/704 [==============================] - 5s 7ms/step - loss: 0.6702 - accuracy: 0.8670 - val_loss: 0.7359 - val_accuracy: 0.8422 - lr: 3.6000e-04\n",
            "Epoch 27/50\n",
            "704/704 [==============================] - 5s 7ms/step - loss: 0.6610 - accuracy: 0.8667 - val_loss: 0.7464 - val_accuracy: 0.8394 - lr: 3.6000e-04\n",
            "Epoch 28/50\n",
            "698/704 [============================>.] - ETA: 0s - loss: 0.6536 - accuracy: 0.8688\n",
            "Epoch 28: ReduceLROnPlateau reducing learning rate to 0.00021600000327453016.\n",
            "704/704 [==============================] - 5s 7ms/step - loss: 0.6538 - accuracy: 0.8687 - val_loss: 0.7748 - val_accuracy: 0.8354 - lr: 3.6000e-04\n",
            "Epoch 29/50\n",
            "704/704 [==============================] - 5s 7ms/step - loss: 0.6049 - accuracy: 0.8827 - val_loss: 0.7117 - val_accuracy: 0.8466 - lr: 2.1600e-04\n",
            "Epoch 30/50\n",
            "704/704 [==============================] - 5s 7ms/step - loss: 0.5851 - accuracy: 0.8863 - val_loss: 0.7132 - val_accuracy: 0.8508 - lr: 2.1600e-04\n",
            "Epoch 31/50\n",
            "704/704 [==============================] - 5s 7ms/step - loss: 0.5693 - accuracy: 0.8918 - val_loss: 0.7169 - val_accuracy: 0.8476 - lr: 2.1600e-04\n",
            "Epoch 32/50\n",
            "704/704 [==============================] - 5s 7ms/step - loss: 0.5536 - accuracy: 0.8964 - val_loss: 0.7041 - val_accuracy: 0.8488 - lr: 2.1600e-04\n",
            "Epoch 33/50\n",
            "704/704 [==============================] - ETA: 0s - loss: 0.5494 - accuracy: 0.8947\n",
            "Epoch 33: ReduceLROnPlateau reducing learning rate to 0.00012960000021848827.\n",
            "704/704 [==============================] - 5s 7ms/step - loss: 0.5494 - accuracy: 0.8947 - val_loss: 0.7141 - val_accuracy: 0.8422 - lr: 2.1600e-04\n",
            "Epoch 34/50\n",
            "704/704 [==============================] - 5s 7ms/step - loss: 0.5185 - accuracy: 0.9050 - val_loss: 0.6940 - val_accuracy: 0.8520 - lr: 1.2960e-04\n",
            "Epoch 35/50\n",
            "704/704 [==============================] - 5s 7ms/step - loss: 0.4999 - accuracy: 0.9101 - val_loss: 0.6951 - val_accuracy: 0.8496 - lr: 1.2960e-04\n",
            "Epoch 36/50\n",
            "704/704 [==============================] - 5s 7ms/step - loss: 0.4936 - accuracy: 0.9095 - val_loss: 0.6820 - val_accuracy: 0.8530 - lr: 1.2960e-04\n",
            "Epoch 37/50\n",
            "704/704 [==============================] - 5s 7ms/step - loss: 0.4839 - accuracy: 0.9127 - val_loss: 0.6604 - val_accuracy: 0.8580 - lr: 1.2960e-04\n",
            "Epoch 38/50\n",
            "704/704 [==============================] - 5s 7ms/step - loss: 0.4714 - accuracy: 0.9158 - val_loss: 0.6904 - val_accuracy: 0.8512 - lr: 1.2960e-04\n",
            "Epoch 39/50\n",
            "704/704 [==============================] - 5s 7ms/step - loss: 0.4697 - accuracy: 0.9145 - val_loss: 0.6651 - val_accuracy: 0.8564 - lr: 1.2960e-04\n",
            "Epoch 40/50\n",
            "700/704 [============================>.] - ETA: 0s - loss: 0.4658 - accuracy: 0.9163\n",
            "Epoch 40: ReduceLROnPlateau reducing learning rate to 7.775999838486313e-05.\n",
            "704/704 [==============================] - 5s 7ms/step - loss: 0.4657 - accuracy: 0.9164 - val_loss: 0.6610 - val_accuracy: 0.8570 - lr: 1.2960e-04\n",
            "Epoch 41/50\n",
            "704/704 [==============================] - 5s 7ms/step - loss: 0.4438 - accuracy: 0.9222 - val_loss: 0.6618 - val_accuracy: 0.8608 - lr: 7.7760e-05\n",
            "Epoch 42/50\n",
            "704/704 [==============================] - 5s 7ms/step - loss: 0.4301 - accuracy: 0.9271 - val_loss: 0.6554 - val_accuracy: 0.8608 - lr: 7.7760e-05\n",
            "Epoch 43/50\n",
            "704/704 [==============================] - 5s 7ms/step - loss: 0.4248 - accuracy: 0.9269 - val_loss: 0.6549 - val_accuracy: 0.8584 - lr: 7.7760e-05\n",
            "Epoch 44/50\n",
            "699/704 [============================>.] - ETA: 0s - loss: 0.4254 - accuracy: 0.9280\n",
            "Epoch 44: ReduceLROnPlateau reducing learning rate to 4.6655999904032795e-05.\n",
            "704/704 [==============================] - 5s 7ms/step - loss: 0.4254 - accuracy: 0.9280 - val_loss: 0.6502 - val_accuracy: 0.8594 - lr: 7.7760e-05\n",
            "Epoch 45/50\n",
            "704/704 [==============================] - 5s 7ms/step - loss: 0.4097 - accuracy: 0.9327 - val_loss: 0.6461 - val_accuracy: 0.8618 - lr: 4.6656e-05\n",
            "Epoch 46/50\n",
            "704/704 [==============================] - 5s 7ms/step - loss: 0.4061 - accuracy: 0.9330 - val_loss: 0.6497 - val_accuracy: 0.8610 - lr: 4.6656e-05\n",
            "Epoch 47/50\n",
            "704/704 [==============================] - 5s 7ms/step - loss: 0.4013 - accuracy: 0.9349 - val_loss: 0.6494 - val_accuracy: 0.8630 - lr: 4.6656e-05\n",
            "Epoch 48/50\n",
            "704/704 [==============================] - 5s 7ms/step - loss: 0.3979 - accuracy: 0.9349 - val_loss: 0.6404 - val_accuracy: 0.8640 - lr: 4.6656e-05\n",
            "Epoch 49/50\n",
            "704/704 [==============================] - 5s 7ms/step - loss: 0.3905 - accuracy: 0.9365 - val_loss: 0.6571 - val_accuracy: 0.8612 - lr: 4.6656e-05\n",
            "Epoch 50/50\n",
            "704/704 [==============================] - 5s 7ms/step - loss: 0.3895 - accuracy: 0.9360 - val_loss: 0.6458 - val_accuracy: 0.8608 - lr: 4.6656e-05\n"
          ]
        }
      ]
    },
    {
      "cell_type": "code",
      "source": [
        "plt.plot(history.history['loss'])\n",
        "plt.plot(history.history['val_loss'])\n",
        "plt.title('Model loss')\n",
        "plt.ylabel('Loss')\n",
        "plt.xlabel('Epoch')\n",
        "plt.legend(['Train', 'Validation'], loc='upper left')\n",
        "plt.show()"
      ],
      "metadata": {
        "colab": {
          "base_uri": "https://localhost:8080/",
          "height": 472
        },
        "id": "seapKkn6xYr1",
        "outputId": "81dc5186-bb73-43a1-ac67-006db4810522"
      },
      "execution_count": 12,
      "outputs": [
        {
          "output_type": "display_data",
          "data": {
            "text/plain": [
              "<Figure size 640x480 with 1 Axes>"
            ],
            "image/png": "[encoded data removed]"
          },
          "metadata": {}
        }
      ]
    },
    {
      "cell_type": "code",
      "source": [
        "plt.plot(history.history['accuracy'])\n",
        "plt.plot(history.history['val_accuracy'])\n",
        "plt.title('Model accuracy')\n",
        "plt.ylabel('Accuracy')\n",
        "plt.xlabel('Epoch')\n",
        "plt.legend(['Train', 'Validation'], loc='upper left')\n",
        "plt.show()"
      ],
      "metadata": {
        "colab": {
          "base_uri": "https://localhost:8080/",
          "height": 472
        },
        "id": "Z9YqxtJKy5sc",
        "outputId": "6974a741-b227-422a-bae5-a54d75ac6c03"
      },
      "execution_count": 13,
      "outputs": [
        {
          "output_type": "display_data",
          "data": {
            "text/plain": [
              "<Figure size 640x480 with 1 Axes>"
            ],
            "image/png": "[encoded data removed]"
          },
          "metadata": {}
        }
      ]
    },
    {
      "cell_type": "code",
      "source": [
        "test_loss, test_accuracy = model.evaluate(X_test, y_test)\n",
        "\n",
        "print(f\"Test Loss: {test_loss}\")\n",
        "print(f\"Test Accuracy: {test_accuracy}\")"
      ],
      "metadata": {
        "colab": {
          "base_uri": "https://localhost:8080/"
        },
        "id": "4PGPhgjcy76N",
        "outputId": "09ffced6-d028-4fce-a21b-fa72ccd385b6"
      },
      "execution_count": 14,
      "outputs": [
        {
          "output_type": "stream",
          "name": "stdout",
          "text": [
            "313/313 [==============================] - 1s 3ms/step - loss: 0.6492 - accuracy: 0.8655\n",
            "Test Loss: 0.6491919755935669\n",
            "Test Accuracy: 0.8654999732971191\n"
          ]
        }
      ]
    },
    {
      "cell_type": "code",
      "source": [],
      "metadata": {
        "id": "wS3-Vv6Hy-6p"
      },
      "execution_count": null,
      "outputs": []
    }
  ]
}