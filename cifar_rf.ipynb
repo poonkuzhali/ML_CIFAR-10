{
 "cells": [
  {
   "cell_type": "code",
   "execution_count": 32,
   "outputs": [],
   "source": [
    "from keras.src.datasets import cifar10\n",
    "from sklearn.ensemble import RandomForestClassifier\n",
    "from sklearn.metrics import  accuracy_score"
   ],
   "metadata": {
    "collapsed": false,
    "ExecuteTime": {
     "end_time": "2024-04-19T21:11:02.854563Z",
     "start_time": "2024-04-19T21:11:02.839554Z"
    }
   },
   "id": "f54dcb6acac3913f"
  },
  {
   "cell_type": "code",
   "execution_count": 33,
   "id": "initial_id",
   "metadata": {
    "collapsed": true,
    "ExecuteTime": {
     "end_time": "2024-04-19T21:11:03.453149Z",
     "start_time": "2024-04-19T21:11:02.843025Z"
    }
   },
   "outputs": [],
   "source": [
    "(X_train, y_train), (X_test, y_test) = cifar10.load_data()"
   ]
  },
  {
   "cell_type": "code",
   "execution_count": 34,
   "outputs": [],
   "source": [
    "X_train = X_train/255.0\n",
    "X_test = X_test/255.0"
   ],
   "metadata": {
    "collapsed": false,
    "ExecuteTime": {
     "end_time": "2024-04-19T21:11:04.012161Z",
     "start_time": "2024-04-19T21:11:03.455253Z"
    }
   },
   "id": "7bb1482379700ceb"
  },
  {
   "cell_type": "code",
   "execution_count": 35,
   "outputs": [],
   "source": [
    "n_samples, n_x, n_y, n_rgb = X_train.shape\n",
    "reshaped_X_train = X_train.reshape((n_samples, n_x * n_y * n_rgb))\n",
    "n_samples, n_x, n_y, n_rgb = X_test.shape\n",
    "reshaped_X_test = X_test.reshape((n_samples, n_x*n_y*n_rgb))"
   ],
   "metadata": {
    "collapsed": false,
    "ExecuteTime": {
     "end_time": "2024-04-19T21:11:05.004452Z",
     "start_time": "2024-04-19T21:11:04.014916Z"
    }
   },
   "id": "d09a72a2949fd65a"
  },
  {
   "cell_type": "code",
   "execution_count": 37,
   "outputs": [
    {
     "name": "stderr",
     "output_type": "stream",
     "text": [
      "/Users/poonkuzhali.saran/PycharmProjects/CIFAR-10/myvenv/lib/python3.9/site-packages/sklearn/base.py:1474: DataConversionWarning: A column-vector y was passed when a 1d array was expected. Please change the shape of y to (n_samples,), for example using ravel().\n",
      "  return fit_method(estimator, *args, **kwargs)\n"
     ]
    },
    {
     "data": {
      "text/plain": "0.4595"
     },
     "execution_count": 37,
     "metadata": {},
     "output_type": "execute_result"
    }
   ],
   "source": [
    "rf = RandomForestClassifier()\n",
    "rf.fit(reshaped_X_train, y_train)\n",
    "rf_pred = rf.predict(reshaped_X_test)\n",
    "accuracy_score(rf_pred, y_test)"
   ],
   "metadata": {
    "collapsed": false,
    "ExecuteTime": {
     "end_time": "2024-04-19T21:14:01.526583Z",
     "start_time": "2024-04-19T21:11:20.763324Z"
    }
   },
   "id": "4ff9b586b4690808"
  }
 ],
 "metadata": {
  "kernelspec": {
   "display_name": "Python 3",
   "language": "python",
   "name": "python3"
  },
  "language_info": {
   "codemirror_mode": {
    "name": "ipython",
    "version": 2
   },
   "file_extension": ".py",
   "mimetype": "text/x-python",
   "name": "python",
   "nbconvert_exporter": "python",
   "pygments_lexer": "ipython2",
   "version": "2.7.6"
  }
 },
 "nbformat": 4,
 "nbformat_minor": 5
}
